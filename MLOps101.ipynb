{
  "nbformat": 4,
  "nbformat_minor": 0,
  "metadata": {
    "colab": {
      "provenance": [],
      "authorship_tag": "ABX9TyPrpt0TiE1QXTog2xCIwI/E",
      "include_colab_link": true
    },
    "kernelspec": {
      "name": "python3",
      "display_name": "Python 3"
    },
    "language_info": {
      "name": "python"
    }
  },
  "cells": [
    {
      "cell_type": "markdown",
      "metadata": {
        "id": "view-in-github",
        "colab_type": "text"
      },
      "source": [
        "<a href=\"https://colab.research.google.com/github/bestoun/mlops-starter-env/blob/main/MLOps101.ipynb\" target=\"_parent\"><img src=\"https://colab.research.google.com/assets/colab-badge.svg\" alt=\"Open In Colab\"/></a>"
      ]
    },
    {
      "cell_type": "markdown",
      "source": [
        "##ingestion"
      ],
      "metadata": {
        "id": "niaLKx3URB9v"
      }
    },
    {
      "cell_type": "code",
      "execution_count": null,
      "metadata": {
        "id": "Dafe0h2aQ180"
      },
      "outputs": [],
      "source": []
    },
    {
      "cell_type": "markdown",
      "source": [
        "##EDA\n"
      ],
      "metadata": {
        "id": "HEiL8HlmRV31"
      }
    },
    {
      "cell_type": "markdown",
      "source": [
        "##Modeling\n"
      ],
      "metadata": {
        "id": "fRvA7vAdRYq_"
      }
    },
    {
      "cell_type": "markdown",
      "source": [
        "##conclusion\n"
      ],
      "metadata": {
        "id": "AjTAUBNFRcUh"
      }
    }
  ]
}